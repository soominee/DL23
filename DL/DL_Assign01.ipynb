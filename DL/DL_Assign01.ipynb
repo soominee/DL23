{
  "nbformat": 4,
  "nbformat_minor": 0,
  "metadata": {
    "colab": {
      "provenance": [],
      "include_colab_link": true
    },
    "kernelspec": {
      "name": "python3",
      "display_name": "Python 3"
    },
    "language_info": {
      "name": "python"
    }
  },
  "cells": [
    {
      "cell_type": "markdown",
      "metadata": {
        "id": "view-in-github",
        "colab_type": "text"
      },
      "source": [
        "<a href=\"https://colab.research.google.com/github/soominee/DL23/blob/main/DL/DL_Assign01.ipynb\" target=\"_parent\"><img src=\"https://colab.research.google.com/assets/colab-badge.svg\" alt=\"Open In Colab\"/></a>"
      ]
    },
    {
      "cell_type": "markdown",
      "source": [
        "# 🍎 Digital Literacy Assignment #1: Create your gTTS tool\n",
        "\n",
        "* ⏰ Due by Mar. 28 (closed in the midnight)\n",
        "\n",
        "🍀 [Reference page](https://github.com/MK316/Spring2023/blob/main/DL/DLW02a.ipynb)\n",
        "\n",
        "**🍀 Instruction:**\n",
        "\n",
        "1. Complete each code cell with the corresponding code (refer to our class material)\n",
        "\n",
        "2. Add Korean description in each Text cell.\n",
        "3. Make sure your codes are running without fail.\n",
        "4. Save a copy in your Github account (File > Save a copy in Github)"
      ],
      "metadata": {
        "id": "UoWEbKxq6ZrP"
      }
    },
    {
      "cell_type": "markdown",
      "source": [
        "## Step 1. gTTS 설치하기"
      ],
      "metadata": {
        "id": "HtepnsUe6edl"
      }
    },
    {
      "cell_type": "code",
      "execution_count": 1,
      "metadata": {
        "id": "3GZdJ4qG6Wlu",
        "outputId": "bdc82351-e495-405c-e124-32aab98c4b35",
        "colab": {
          "base_uri": "https://localhost:8080/"
        }
      },
      "outputs": [
        {
          "output_type": "stream",
          "name": "stdout",
          "text": [
            "Looking in indexes: https://pypi.org/simple, https://us-python.pkg.dev/colab-wheels/public/simple/\n",
            "Collecting gTTS\n",
            "  Downloading gTTS-2.3.1-py3-none-any.whl (28 kB)\n",
            "Requirement already satisfied: click<8.2,>=7.1 in /usr/local/lib/python3.9/dist-packages (from gTTS) (8.1.3)\n",
            "Requirement already satisfied: requests<3,>=2.27 in /usr/local/lib/python3.9/dist-packages (from gTTS) (2.27.1)\n",
            "Requirement already satisfied: idna<4,>=2.5 in /usr/local/lib/python3.9/dist-packages (from requests<3,>=2.27->gTTS) (3.4)\n",
            "Requirement already satisfied: charset-normalizer~=2.0.0 in /usr/local/lib/python3.9/dist-packages (from requests<3,>=2.27->gTTS) (2.0.12)\n",
            "Requirement already satisfied: certifi>=2017.4.17 in /usr/local/lib/python3.9/dist-packages (from requests<3,>=2.27->gTTS) (2022.12.7)\n",
            "Requirement already satisfied: urllib3<1.27,>=1.21.1 in /usr/local/lib/python3.9/dist-packages (from requests<3,>=2.27->gTTS) (1.26.15)\n",
            "Installing collected packages: gTTS\n",
            "Successfully installed gTTS-2.3.1\n"
          ]
        }
      ],
      "source": [
        "!pip install gTTS"
      ]
    },
    {
      "cell_type": "markdown",
      "source": [
        "## Step 2. 필요한 라이브러리 가져오기 {gTTS} {Audio}"
      ],
      "metadata": {
        "id": "ueGlOrC16jk8"
      }
    },
    {
      "cell_type": "code",
      "source": [
        "from gtts import gTTS\n",
        "from IPython.display import Audio"
      ],
      "metadata": {
        "id": "c1c0otTB6qP9"
      },
      "execution_count": 2,
      "outputs": []
    },
    {
      "cell_type": "markdown",
      "source": [
        "## Step 3. tts 정의(text)\n",
        "\n",
        "**def tts(text):**\n",
        "\n",
        "- 이 줄은 텍스트 인수를 사용하는 tts라는 함수를 정의한다. 이 기능의 목적은 주어진 텍스트를 오디오 파일로 변환하는 것이다.\n",
        "\n",
        "**gtts_object = gTTS(text,lang = \"en\", slow = True)**\n",
        "\n",
        "- 이 줄은 지정된 텍스트로 새 gTTS 개체를 만들어 언어를 영어로 지정하고 음성 속도를 느리게 지정한다.\n",
        "\n",
        "**gtts_object.save(\"myaudio.mp3\")**\n",
        "\n",
        "- 이 줄은 gTTS 개체에 의해 생성된 오디오 파일을 로컬 파일 시스템의 \"myaudio.mp3\" 파일에 저장한다.\n",
        "\n",
        "**return Audio(\"myaudio.mp3\")**\n",
        "\n",
        "- 이 줄은 방금 저장된 오디오 파일을 나타내는 오디오 개체를 반환한다. 오디오 개체는 오디오 파일을 재생하거나 다양한 방법으로 조작하는 데 사용할 수 있다."
      ],
      "metadata": {
        "id": "F0TiGWg66qqR"
      }
    },
    {
      "cell_type": "code",
      "source": [
        "def tts(text):\n",
        "  gtts_object = gTTS(text,lang = \"en\", slow = True) \n",
        "  gtts_object.save(\"myaudio.mp3\")\n",
        "  return Audio(\"myaudio.mp3\")"
      ],
      "metadata": {
        "id": "81Bf1mKS63zO"
      },
      "execution_count": 3,
      "outputs": []
    },
    {
      "cell_type": "markdown",
      "source": [
        "🌱 tts(text) 함수 해보기\n",
        "\n",
        "**tts('Hello students')**\n",
        "\n",
        "- 이 코드 줄은 'Hello students' 인수로 tts 함수를 호출한다. 이렇게 하면 느린 속도로 사용되는 영어로 \"Hello students\" 텍스트에 해당하는 음성이 포함된 오디오 파일이 생성된다. 오디오 파일은 \"myaudio.mp3\"라는 이름으로 로컬 파일 시스템에 저장된다."
      ],
      "metadata": {
        "id": "n2de5x_X7JiU"
      }
    },
    {
      "cell_type": "code",
      "source": [
        "tts(\"I am sleepy now\")"
      ],
      "metadata": {
        "id": "D9JYUbsS8GmQ",
        "outputId": "68023d28-8d42-4991-869a-616e22a2c847",
        "colab": {
          "base_uri": "https://localhost:8080/",
          "height": 74
        }
      },
      "execution_count": 4,
      "outputs": [
        {
          "output_type": "execute_result",
          "data": {
            "text/plain": [
              "<IPython.lib.display.Audio object>"
            ],
            "text/html": [
              "\n",
              "                <audio  controls=\"controls\" >\n",
              "                    <source src=\"data:audio/mpeg;base64,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\" type=\"audio/mpeg\" />\n",
              "                    Your browser does not support the audio element.\n",
              "                </audio>\n",
              "              "
            ]
          },
          "metadata": {},
          "execution_count": 4
        }
      ]
    },
    {
      "cell_type": "markdown",
      "source": [
        "#  **input( )** 사용\n",
        "\n",
        "- 파이썬에서 input()은 콘솔을 통해 사용자로부터 입력을 받는 데 사용되는 내장 함수이다. input() 함수는 콘솔에 프롬프트를 표시하고 사용자가 일부 텍스트를 입력할 때까지 기다린 다음 사용자가 입력한 텍스트를 문자열로 반환한다.\n",
        "\n",
        "- input() 함수의 구문은 간단하다. 사용자에게 프롬프트로 표시되는 선택적 문자열 인수를 사용한 다음 사용자가 일부 텍스트를 입력할 때까지 기다린다."
      ],
      "metadata": {
        "id": "uH5dejPx8VEx"
      }
    },
    {
      "cell_type": "code",
      "source": [
        "name = input(\"What is your name? \")"
      ],
      "metadata": {
        "colab": {
          "base_uri": "https://localhost:8080/"
        },
        "id": "E80B8KuX8fdX",
        "outputId": "5d27004a-50a8-4629-e04d-d09cf9a747d2"
      },
      "execution_count": null,
      "outputs": [
        {
          "name": "stdout",
          "output_type": "stream",
          "text": [
            "What is your name? Mary\n"
          ]
        }
      ]
    },
    {
      "cell_type": "code",
      "source": [
        "print(name)"
      ],
      "metadata": {
        "colab": {
          "base_uri": "https://localhost:8080/"
        },
        "id": "zS9y6Smm-WSx",
        "outputId": "186d093f-006b-4d13-fc44-5a402890d55a"
      },
      "execution_count": null,
      "outputs": [
        {
          "output_type": "stream",
          "name": "stdout",
          "text": [
            "Mary\n"
          ]
        }
      ]
    }
  ]
}
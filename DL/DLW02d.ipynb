{
  "nbformat": 4,
  "nbformat_minor": 0,
  "metadata": {
    "colab": {
      "provenance": [],
      "include_colab_link": true
    },
    "kernelspec": {
      "name": "python3",
      "display_name": "Python 3"
    },
    "language_info": {
      "name": "python"
    }
  },
  "cells": [
    {
      "cell_type": "markdown",
      "metadata": {
        "id": "view-in-github",
        "colab_type": "text"
      },
      "source": [
        "<a href=\"https://colab.research.google.com/github/soominee/DL23/blob/main/DL/DLW02d.ipynb\" target=\"_parent\"><img src=\"https://colab.research.google.com/assets/colab-badge.svg\" alt=\"Open In Colab\"/></a>"
      ]
    },
    {
      "cell_type": "markdown",
      "source": [
        "---\n",
        "# 📗 Topic [2]: Coding basic #2\n",
        "---\n",
        "Keywords:\n",
        "\n",
        "+ variables\n",
        "+ **operators**\n",
        "+ **data types: list and dictionary**"
      ],
      "metadata": {
        "id": "k4A5_MYHpcNQ"
      }
    },
    {
      "cell_type": "markdown",
      "source": [
        "Your github IDs [here](https://docs.google.com/spreadsheets/d/17SX51lCqOdtvC7cAGoX5tP9fKwVdGY5sRzMg2pXh9uk/edit#gid=0) - revised 0327"
      ],
      "metadata": {
        "id": "mUVgzk50XMkt"
      }
    },
    {
      "cell_type": "markdown",
      "source": [
        "## [1] Variables"
      ],
      "metadata": {
        "id": "93gQaEo1RX63"
      }
    },
    {
      "cell_type": "markdown",
      "source": [
        "+ **A variable** is a named storage location that holds a value.\n",
        "+ Variables can be used **to store values** such as numbers, strings, lists, or other data types. \n",
        "+ The value of a variable can change throughout the execution of a program. \n",
        "+ To declare a variable in Python, you need to assign a value to it using the **equal (=) sign.**"
      ],
      "metadata": {
        "id": "jJT4hD1teuJr"
      }
    },
    {
      "cell_type": "code",
      "source": [
        "x = 10\n",
        "y = \"Hello, class!\"\n",
        "z = [1, 2, 3]"
      ],
      "metadata": {
        "id": "Xes87bY2X45M"
      },
      "execution_count": 1,
      "outputs": []
    },
    {
      "cell_type": "markdown",
      "source": [
        "↗️ In the above example, 'x' is assigned the value of 10, 'y' is assigned the value of \"Hello, World!\", and 'z' is assigned the value of [1, 2, 3]."
      ],
      "metadata": {
        "id": "ulw6QsP5ZiKp"
      }
    },
    {
      "cell_type": "code",
      "source": [
        "# We can assign a link or a function\n",
        "import pandas as pd\n",
        "url = \"https://github.com/MK316/Spring2023/raw/main/data/att_sample.csv\"\n",
        "data = pd.read_csv(url)\n",
        "data"
      ],
      "metadata": {
        "id": "_7bvpJt2aQmg",
        "outputId": "00707194-f46c-42ea-bef0-faff0a3e6181",
        "colab": {
          "base_uri": "https://localhost:8080/",
          "height": 488
        }
      },
      "execution_count": 2,
      "outputs": [
        {
          "output_type": "execute_result",
          "data": {
            "text/plain": [
              "      Names\n",
              "0      Mary\n",
              "1      John\n",
              "2       Tim\n",
              "3       Bob\n",
              "4     Sarah\n",
              "5      Kate\n",
              "6     Marie\n",
              "7   Johnson\n",
              "8      Mike\n",
              "9     Harry\n",
              "10      Jin\n",
              "11      Sam\n",
              "12     Paul\n",
              "13  Natalie"
            ],
            "text/html": [
              "\n",
              "  <div id=\"df-21d090b1-3522-4dad-891a-d2ed422c4584\">\n",
              "    <div class=\"colab-df-container\">\n",
              "      <div>\n",
              "<style scoped>\n",
              "    .dataframe tbody tr th:only-of-type {\n",
              "        vertical-align: middle;\n",
              "    }\n",
              "\n",
              "    .dataframe tbody tr th {\n",
              "        vertical-align: top;\n",
              "    }\n",
              "\n",
              "    .dataframe thead th {\n",
              "        text-align: right;\n",
              "    }\n",
              "</style>\n",
              "<table border=\"1\" class=\"dataframe\">\n",
              "  <thead>\n",
              "    <tr style=\"text-align: right;\">\n",
              "      <th></th>\n",
              "      <th>Names</th>\n",
              "    </tr>\n",
              "  </thead>\n",
              "  <tbody>\n",
              "    <tr>\n",
              "      <th>0</th>\n",
              "      <td>Mary</td>\n",
              "    </tr>\n",
              "    <tr>\n",
              "      <th>1</th>\n",
              "      <td>John</td>\n",
              "    </tr>\n",
              "    <tr>\n",
              "      <th>2</th>\n",
              "      <td>Tim</td>\n",
              "    </tr>\n",
              "    <tr>\n",
              "      <th>3</th>\n",
              "      <td>Bob</td>\n",
              "    </tr>\n",
              "    <tr>\n",
              "      <th>4</th>\n",
              "      <td>Sarah</td>\n",
              "    </tr>\n",
              "    <tr>\n",
              "      <th>5</th>\n",
              "      <td>Kate</td>\n",
              "    </tr>\n",
              "    <tr>\n",
              "      <th>6</th>\n",
              "      <td>Marie</td>\n",
              "    </tr>\n",
              "    <tr>\n",
              "      <th>7</th>\n",
              "      <td>Johnson</td>\n",
              "    </tr>\n",
              "    <tr>\n",
              "      <th>8</th>\n",
              "      <td>Mike</td>\n",
              "    </tr>\n",
              "    <tr>\n",
              "      <th>9</th>\n",
              "      <td>Harry</td>\n",
              "    </tr>\n",
              "    <tr>\n",
              "      <th>10</th>\n",
              "      <td>Jin</td>\n",
              "    </tr>\n",
              "    <tr>\n",
              "      <th>11</th>\n",
              "      <td>Sam</td>\n",
              "    </tr>\n",
              "    <tr>\n",
              "      <th>12</th>\n",
              "      <td>Paul</td>\n",
              "    </tr>\n",
              "    <tr>\n",
              "      <th>13</th>\n",
              "      <td>Natalie</td>\n",
              "    </tr>\n",
              "  </tbody>\n",
              "</table>\n",
              "</div>\n",
              "      <button class=\"colab-df-convert\" onclick=\"convertToInteractive('df-21d090b1-3522-4dad-891a-d2ed422c4584')\"\n",
              "              title=\"Convert this dataframe to an interactive table.\"\n",
              "              style=\"display:none;\">\n",
              "        \n",
              "  <svg xmlns=\"http://www.w3.org/2000/svg\" height=\"24px\"viewBox=\"0 0 24 24\"\n",
              "       width=\"24px\">\n",
              "    <path d=\"M0 0h24v24H0V0z\" fill=\"none\"/>\n",
              "    <path d=\"M18.56 5.44l.94 2.06.94-2.06 2.06-.94-2.06-.94-.94-2.06-.94 2.06-2.06.94zm-11 1L8.5 8.5l.94-2.06 2.06-.94-2.06-.94L8.5 2.5l-.94 2.06-2.06.94zm10 10l.94 2.06.94-2.06 2.06-.94-2.06-.94-.94-2.06-.94 2.06-2.06.94z\"/><path d=\"M17.41 7.96l-1.37-1.37c-.4-.4-.92-.59-1.43-.59-.52 0-1.04.2-1.43.59L10.3 9.45l-7.72 7.72c-.78.78-.78 2.05 0 2.83L4 21.41c.39.39.9.59 1.41.59.51 0 1.02-.2 1.41-.59l7.78-7.78 2.81-2.81c.8-.78.8-2.07 0-2.86zM5.41 20L4 18.59l7.72-7.72 1.47 1.35L5.41 20z\"/>\n",
              "  </svg>\n",
              "      </button>\n",
              "      \n",
              "  <style>\n",
              "    .colab-df-container {\n",
              "      display:flex;\n",
              "      flex-wrap:wrap;\n",
              "      gap: 12px;\n",
              "    }\n",
              "\n",
              "    .colab-df-convert {\n",
              "      background-color: #E8F0FE;\n",
              "      border: none;\n",
              "      border-radius: 50%;\n",
              "      cursor: pointer;\n",
              "      display: none;\n",
              "      fill: #1967D2;\n",
              "      height: 32px;\n",
              "      padding: 0 0 0 0;\n",
              "      width: 32px;\n",
              "    }\n",
              "\n",
              "    .colab-df-convert:hover {\n",
              "      background-color: #E2EBFA;\n",
              "      box-shadow: 0px 1px 2px rgba(60, 64, 67, 0.3), 0px 1px 3px 1px rgba(60, 64, 67, 0.15);\n",
              "      fill: #174EA6;\n",
              "    }\n",
              "\n",
              "    [theme=dark] .colab-df-convert {\n",
              "      background-color: #3B4455;\n",
              "      fill: #D2E3FC;\n",
              "    }\n",
              "\n",
              "    [theme=dark] .colab-df-convert:hover {\n",
              "      background-color: #434B5C;\n",
              "      box-shadow: 0px 1px 3px 1px rgba(0, 0, 0, 0.15);\n",
              "      filter: drop-shadow(0px 1px 2px rgba(0, 0, 0, 0.3));\n",
              "      fill: #FFFFFF;\n",
              "    }\n",
              "  </style>\n",
              "\n",
              "      <script>\n",
              "        const buttonEl =\n",
              "          document.querySelector('#df-21d090b1-3522-4dad-891a-d2ed422c4584 button.colab-df-convert');\n",
              "        buttonEl.style.display =\n",
              "          google.colab.kernel.accessAllowed ? 'block' : 'none';\n",
              "\n",
              "        async function convertToInteractive(key) {\n",
              "          const element = document.querySelector('#df-21d090b1-3522-4dad-891a-d2ed422c4584');\n",
              "          const dataTable =\n",
              "            await google.colab.kernel.invokeFunction('convertToInteractive',\n",
              "                                                     [key], {});\n",
              "          if (!dataTable) return;\n",
              "\n",
              "          const docLinkHtml = 'Like what you see? Visit the ' +\n",
              "            '<a target=\"_blank\" href=https://colab.research.google.com/notebooks/data_table.ipynb>data table notebook</a>'\n",
              "            + ' to learn more about interactive tables.';\n",
              "          element.innerHTML = '';\n",
              "          dataTable['output_type'] = 'display_data';\n",
              "          await google.colab.output.renderOutput(dataTable, element);\n",
              "          const docLink = document.createElement('div');\n",
              "          docLink.innerHTML = docLinkHtml;\n",
              "          element.appendChild(docLink);\n",
              "        }\n",
              "      </script>\n",
              "    </div>\n",
              "  </div>\n",
              "  "
            ]
          },
          "metadata": {},
          "execution_count": 2
        }
      ]
    },
    {
      "cell_type": "markdown",
      "source": [
        "## Commenting '#'\n",
        "\n",
        "- In Python, the # symbol is used to indicate comment lines. A comment is a line of text in a code that is ignored by the Python interpreter and is used to provide explanations or notes for the reader of the code.\n",
        "\n",
        "## Uncommenting shortcut: \n",
        "* \"Ctrl + /\" (Place the cursor on the code line and press the Control + / key.)"
      ],
      "metadata": {
        "id": "xZv9R8I8ZWvt"
      }
    },
    {
      "cell_type": "code",
      "source": [
        "# This is a comment in Python\n",
        "x = 10 # this is also a comment"
      ],
      "metadata": {
        "id": "7UJmbmmTaFx9"
      },
      "execution_count": 3,
      "outputs": []
    },
    {
      "cell_type": "code",
      "source": [
        "x1 = x * 10\n",
        "x2 = x + 5\n",
        "\n",
        "print(X1) # Print the value of x1\n",
        "#print(x1, x2) # Print the values of x1 and x2"
      ],
      "metadata": {
        "id": "Ivc72tB0X_TS",
        "outputId": "61fb1d95-7c04-4ce4-8184-9e6a44e5f299",
        "colab": {
          "base_uri": "https://localhost:8080/",
          "height": 229
        }
      },
      "execution_count": 4,
      "outputs": [
        {
          "output_type": "error",
          "ename": "NameError",
          "evalue": "ignored",
          "traceback": [
            "\u001b[0;31m---------------------------------------------------------------------------\u001b[0m",
            "\u001b[0;31mNameError\u001b[0m                                 Traceback (most recent call last)",
            "\u001b[0;32m<ipython-input-4-0783c1e56652>\u001b[0m in \u001b[0;36m<module>\u001b[0;34m\u001b[0m\n\u001b[1;32m      2\u001b[0m \u001b[0mx2\u001b[0m \u001b[0;34m=\u001b[0m \u001b[0mx\u001b[0m \u001b[0;34m+\u001b[0m \u001b[0;36m5\u001b[0m\u001b[0;34m\u001b[0m\u001b[0;34m\u001b[0m\u001b[0m\n\u001b[1;32m      3\u001b[0m \u001b[0;34m\u001b[0m\u001b[0m\n\u001b[0;32m----> 4\u001b[0;31m \u001b[0mprint\u001b[0m\u001b[0;34m(\u001b[0m\u001b[0mX1\u001b[0m\u001b[0;34m)\u001b[0m \u001b[0;31m# Print the value of x1\u001b[0m\u001b[0;34m\u001b[0m\u001b[0;34m\u001b[0m\u001b[0m\n\u001b[0m\u001b[1;32m      5\u001b[0m \u001b[0;31m#print(x1, x2) # Print the values of x1 and x2\u001b[0m\u001b[0;34m\u001b[0m\u001b[0;34m\u001b[0m\u001b[0m\n",
            "\u001b[0;31mNameError\u001b[0m: name 'X1' is not defined"
          ]
        }
      ]
    },
    {
      "cell_type": "code",
      "source": [
        "y1 = y + \"Welcome to the class.\"\n",
        "z1 = z + [3,2,1]\n",
        " \n",
        "print(y1, z1)"
      ],
      "metadata": {
        "id": "cxePqv-52RU0",
        "outputId": "d898577f-d425-4a42-c570-023277a44c83",
        "colab": {
          "base_uri": "https://localhost:8080/"
        }
      },
      "execution_count": 5,
      "outputs": [
        {
          "output_type": "stream",
          "name": "stdout",
          "text": [
            "Hello, class!Welcome to the class. [1, 2, 3, 3, 2, 1]\n"
          ]
        }
      ]
    },
    {
      "cell_type": "markdown",
      "source": [
        "Input types:\n",
        "\n",
        "* integer: e.g., -3, 1, 0, 234, etc.\n",
        "* float: e.g., -3.0, 1.2, 0, 3.141592653589793238, etc.\n",
        "* string: (characters) \"1\", '0', \"3.29\", \"Mary\", \"euphoria\", 'My name is Jane.'\n",
        "\n",
        "_Note:_ double or single quotation marks denote **string** data. (Open and close should match.)"
      ],
      "metadata": {
        "id": "4zDbyBHbeQsq"
      }
    },
    {
      "cell_type": "markdown",
      "source": [
        "<메모>\n",
        "integer: 정수(int)\n",
        "float: 소수(.)\n",
        "string: 따옴표를 사용해 문자로 인식 ex)\"1\"은 숫자 1이 아니라 문자 \"1\""
      ],
      "metadata": {
        "id": "U1dSkYTlMhIq"
      }
    },
    {
      "cell_type": "code",
      "source": [
        "# DIY\n",
        "x = 1\n",
        "y = 3\n",
        "z = x + y\n",
        "print(z)\n",
        "\n",
        "x1 = \"1\"\n",
        "y1 = \"3\"\n",
        "z1 = x1 + y1\n",
        "print(z1)"
      ],
      "metadata": {
        "colab": {
          "base_uri": "https://localhost:8080/"
        },
        "id": "yzZuC29QfP3T",
        "outputId": "27cdef18-3143-4902-9c7a-fea5df34b36c"
      },
      "execution_count": 6,
      "outputs": [
        {
          "output_type": "stream",
          "name": "stdout",
          "text": [
            "4\n",
            "13\n"
          ]
        }
      ]
    },
    {
      "cell_type": "code",
      "source": [
        "type(z)"
      ],
      "metadata": {
        "colab": {
          "base_uri": "https://localhost:8080/"
        },
        "id": "qwDb8cf5fkKi",
        "outputId": "e0ff1e7b-2344-47f6-9d37-b95d154f3b8c"
      },
      "execution_count": 8,
      "outputs": [
        {
          "output_type": "execute_result",
          "data": {
            "text/plain": [
              "int"
            ]
          },
          "metadata": {},
          "execution_count": 8
        }
      ]
    },
    {
      "cell_type": "code",
      "source": [
        "type(z1)"
      ],
      "metadata": {
        "colab": {
          "base_uri": "https://localhost:8080/"
        },
        "id": "L7sxvSaOfsOt",
        "outputId": "8086531a-0dff-47b9-e8b7-5c16c444a998"
      },
      "execution_count": 9,
      "outputs": [
        {
          "output_type": "execute_result",
          "data": {
            "text/plain": [
              "str"
            ]
          },
          "metadata": {},
          "execution_count": 9
        }
      ]
    },
    {
      "cell_type": "code",
      "source": [
        "print(type(z), type(z1))"
      ],
      "metadata": {
        "colab": {
          "base_uri": "https://localhost:8080/"
        },
        "id": "bbFaL_GWfwMH",
        "outputId": "3fb01607-4680-429a-d92a-1750df08c718"
      },
      "execution_count": 10,
      "outputs": [
        {
          "output_type": "stream",
          "name": "stdout",
          "text": [
            "<class 'int'> <class 'str'>\n"
          ]
        }
      ]
    },
    {
      "cell_type": "markdown",
      "source": [
        "## [2] Operators\n",
        "\n",
        "* Symbols that perform operations on values and variables. \n",
        "* They are used to perform arithmetic and logical operations, and they can also be used to manipulate and compare values. "
      ],
      "metadata": {
        "id": "5JgA2T2dRft5"
      }
    },
    {
      "cell_type": "markdown",
      "source": [
        "1. Arithmetic Operators: +, -, *, /, %, ** (for exponentiation)\n",
        "2. semicolon ';' - separate multiple statements (code lines) on a single line."
      ],
      "metadata": {
        "id": "NJBgu_O4bczL"
      }
    },
    {
      "cell_type": "code",
      "source": [
        "x = 2; y = 5\n",
        "\n",
        "a1 = x + y\n",
        "a2 = x - y\n",
        "a3 = x * y\n",
        "a4 = x / y\n",
        "a5 = x ** y"
      ],
      "metadata": {
        "id": "dXT3pIzobUHU"
      },
      "execution_count": 11,
      "outputs": []
    },
    {
      "cell_type": "code",
      "source": [
        "print(a1, a2, a3, a4, a5)"
      ],
      "metadata": {
        "colab": {
          "base_uri": "https://localhost:8080/"
        },
        "id": "_m3JBsOKd6Uv",
        "outputId": "bcd304fd-ff36-4a84-a362-da859c2abcf0"
      },
      "execution_count": 12,
      "outputs": [
        {
          "output_type": "stream",
          "name": "stdout",
          "text": [
            "7 -3 10 0.4 32\n"
          ]
        }
      ]
    },
    {
      "cell_type": "code",
      "source": [
        "print(\"The value of a1:\", a1)"
      ],
      "metadata": {
        "colab": {
          "base_uri": "https://localhost:8080/"
        },
        "id": "5kq7I3nMd0Xi",
        "outputId": "06a1dbca-f197-40f1-b716-55060b43f5d3"
      },
      "execution_count": 13,
      "outputs": [
        {
          "output_type": "stream",
          "name": "stdout",
          "text": [
            "The value of a1: 7\n"
          ]
        }
      ]
    },
    {
      "cell_type": "markdown",
      "source": [
        "# 🌱 Define a function\n",
        "\n",
        "Demo 🔢 Calculator"
      ],
      "metadata": {
        "id": "Cx1NyWUAybc8"
      }
    },
    {
      "cell_type": "code",
      "source": [
        "# This function adds two numbers\n",
        "def add(x, y):\n",
        "    return x + y\n",
        "\n",
        "# This function subtracts two numbers\n",
        "def subtract(x, y):\n",
        "    return x - y\n",
        "\n",
        "# This function multiplies two numbers\n",
        "def multiply(x, y):\n",
        "    return x * y\n",
        "\n",
        "# This function divides two numbers\n",
        "def divide(x, y):\n",
        "    return x / y\n"
      ],
      "metadata": {
        "id": "Dod3_zgYdsWe"
      },
      "execution_count": 14,
      "outputs": []
    },
    {
      "cell_type": "code",
      "source": [
        "# DIY: define a function names switch(x, y), where the input x, y changes its position in the output."
      ],
      "metadata": {
        "id": "W9CuAaqXgwb5"
      },
      "execution_count": null,
      "outputs": []
    },
    {
      "cell_type": "code",
      "source": [
        "# Test\n",
        "\n",
        "#add(2,3)\n",
        "# subtract(3,2)\n",
        "# multiply(2,3)\n",
        "divide(100,20)"
      ],
      "metadata": {
        "id": "IoHh-U2GBsqH",
        "outputId": "8e4e1482-f9cd-4ceb-f8bc-6ad5fa8035d1",
        "colab": {
          "base_uri": "https://localhost:8080/"
        }
      },
      "execution_count": 19,
      "outputs": [
        {
          "output_type": "execute_result",
          "data": {
            "text/plain": [
              "5.0"
            ]
          },
          "metadata": {},
          "execution_count": 19
        }
      ]
    },
    {
      "cell_type": "markdown",
      "source": [
        "## Using dropbox format"
      ],
      "metadata": {
        "id": "eOluPoNqCCE1"
      }
    },
    {
      "cell_type": "code",
      "source": [
        "!pip install gTTS"
      ],
      "metadata": {
        "id": "4K7w-kp7Nn8p",
        "outputId": "25586a6a-2e80-47d5-9a26-e792670b40ff",
        "colab": {
          "base_uri": "https://localhost:8080/"
        }
      },
      "execution_count": 22,
      "outputs": [
        {
          "output_type": "stream",
          "name": "stdout",
          "text": [
            "Looking in indexes: https://pypi.org/simple, https://us-python.pkg.dev/colab-wheels/public/simple/\n",
            "Collecting gTTS\n",
            "  Downloading gTTS-2.3.1-py3-none-any.whl (28 kB)\n",
            "Requirement already satisfied: click<8.2,>=7.1 in /usr/local/lib/python3.9/dist-packages (from gTTS) (8.1.3)\n",
            "Requirement already satisfied: requests<3,>=2.27 in /usr/local/lib/python3.9/dist-packages (from gTTS) (2.27.1)\n",
            "Requirement already satisfied: charset-normalizer~=2.0.0 in /usr/local/lib/python3.9/dist-packages (from requests<3,>=2.27->gTTS) (2.0.12)\n",
            "Requirement already satisfied: urllib3<1.27,>=1.21.1 in /usr/local/lib/python3.9/dist-packages (from requests<3,>=2.27->gTTS) (1.26.15)\n",
            "Requirement already satisfied: idna<4,>=2.5 in /usr/local/lib/python3.9/dist-packages (from requests<3,>=2.27->gTTS) (3.4)\n",
            "Requirement already satisfied: certifi>=2017.4.17 in /usr/local/lib/python3.9/dist-packages (from requests<3,>=2.27->gTTS) (2022.12.7)\n",
            "Installing collected packages: gTTS\n",
            "Successfully installed gTTS-2.3.1\n"
          ]
        }
      ]
    },
    {
      "cell_type": "code",
      "source": [
        "from gtts import gTTS\n",
        "from IPython.display import Audio"
      ],
      "metadata": {
        "id": "qURbty-dO5A5"
      },
      "execution_count": 23,
      "outputs": []
    },
    {
      "cell_type": "code",
      "source": [
        "def tts(text):\n",
        "  gtts_object = gTTS(text,lang = \"en\", slow = True) \n",
        "  gtts_object.save(\"myaudio.mp3\")\n",
        "  return Audio(\"myaudio.mp3\")"
      ],
      "metadata": {
        "id": "xo9Dfz-eO9Xx"
      },
      "execution_count": 24,
      "outputs": []
    },
    {
      "cell_type": "code",
      "source": [
        "func = \"add\" #@param = [\"add\",\"subtract\",\"multiply\",\"divide\"]\n",
        "digits = input(\"Type two numbers: (e.g., 3,4)\")\n",
        "digitsplit = digits.split(',')\n",
        "d1 = int(digitsplit[0])\n",
        "d2 = int(digitsplit[1])\n",
        "\n",
        "if func == \"add\":\n",
        "  result = add(d1,d2)\n",
        "  text = \"The addition of %d and %d equals %d.\"%(d1,d2,result)\n",
        "elif func == \"subtract\":\n",
        "  result = subtract(d1,d2)\n",
        "  text = \"If you subtract %d from %d, you get %d.\"%(d2,d1,result)\n",
        "elif func == \"divide\":\n",
        "  result = divide(d1,d2)\n",
        "  text = \"When you divide %d by %d, you get %d.\"%(d1,d2,result)\n",
        "elif func == \"multiply\":\n",
        "  result = multiply(d1,d2)\n",
        "  text = \"%d multiplied by %d is %d.\"%(d1,d2,result)\n",
        "\n",
        "print(text)\n",
        "tts(text)\n",
        "Audio(\"myaudio.mp3\")"
      ],
      "metadata": {
        "id": "FT47bY6qBo3k",
        "outputId": "c00d48ad-4388-42ca-e8e7-16789456b582",
        "colab": {
          "base_uri": "https://localhost:8080/",
          "height": 111
        }
      },
      "execution_count": 26,
      "outputs": [
        {
          "output_type": "stream",
          "name": "stdout",
          "text": [
            "Type two numbers: (e.g., 3,4)150,600\n",
            "The addition of 150 and 600 equals 750.\n"
          ]
        },
        {
          "output_type": "execute_result",
          "data": {
            "text/plain": [
              "<IPython.lib.display.Audio object>"
            ],
            "text/html": [
              "\n",
              "                <audio  controls=\"controls\" >\n",
              "                    <source src=\"data:audio/mpeg;base64,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\" type=\"audio/mpeg\" />\n",
              "                    Your browser does not support the audio element.\n",
              "                </audio>\n",
              "              "
            ]
          },
          "metadata": {},
          "execution_count": 26
        }
      ]
    },
    {
      "cell_type": "markdown",
      "source": [
        "More operators: <br>\n",
        "* Comparison Operators: ==, !=, <, >, <=, >= <br>\n",
        "* Assignment Operators: =, +=, -=, *=, /=, %= <br>\n",
        "* Logical Operators: and, or, not <br>\n",
        "* Identity Operators: is, is not <br>\n",
        "* Membership Operators: in, not in "
      ],
      "metadata": {
        "id": "sfubu24UbqjH"
      }
    },
    {
      "cell_type": "markdown",
      "source": [
        "# 📗Topic [3] Data types: number, string, list and dictionary\n"
      ],
      "metadata": {
        "id": "3eSrUoglRh6-"
      }
    },
    {
      "cell_type": "markdown",
      "source": [
        "\n",
        "|Data type| |\n",
        "|:--:|:--:|\n",
        "|number|int, float|\n",
        "|string|charcter|\n",
        "|list|[1, 2,4], ['Mary','Tom','Jane'|\n",
        "|dictionary|(key: value), [('English': 80), ('Korean':90)]|\n",
        "|tuple|('zero', 0)|\n"
      ],
      "metadata": {
        "id": "ZVFb5JmJrPXu"
      }
    },
    {
      "cell_type": "code",
      "source": [
        "a1 = 3   # a1 is integer\n",
        "a2 = 3.0 # a2 is float\n",
        "a3 = \"3\" # a3 is string\n",
        "\n",
        "type(a1); type(a2); type(a3)\n",
        "# print(type(a1), type(a2), type(a3))"
      ],
      "metadata": {
        "colab": {
          "base_uri": "https://localhost:8080/"
        },
        "id": "g-kvldqENA1e",
        "outputId": "5de386be-0556-4d27-8f69-f27115982089"
      },
      "execution_count": 28,
      "outputs": [
        {
          "output_type": "execute_result",
          "data": {
            "text/plain": [
              "str"
            ]
          },
          "metadata": {},
          "execution_count": 28
        }
      ]
    },
    {
      "cell_type": "markdown",
      "source": [
        "list and index (0, 1, 2,...)"
      ],
      "metadata": {
        "id": "HC_wMsPnNbzs"
      }
    },
    {
      "cell_type": "code",
      "source": [
        "a = [1, \"Mary\", 4, \"John\"]  # This is a list.\n",
        "print(type(a))\n",
        "\n",
        "# a+a"
      ],
      "metadata": {
        "colab": {
          "base_uri": "https://localhost:8080/"
        },
        "id": "LyTw7phONZHE",
        "outputId": "3d7eefb3-8446-4831-cc1f-db3b9695a745"
      },
      "execution_count": 35,
      "outputs": [
        {
          "output_type": "stream",
          "name": "stdout",
          "text": [
            "<class 'list'>\n"
          ]
        }
      ]
    },
    {
      "cell_type": "markdown",
      "source": [
        "* index: Python index starts from '0'\n",
        "\n",
        "e.g., a = [1, 2, 3, 4]"
      ],
      "metadata": {
        "id": "-fL-pJvj7NW8"
      }
    },
    {
      "cell_type": "code",
      "source": [
        "a[0]\n",
        "# type(a[0])\n",
        "# type(a[1])\n",
        "# a[0] + a[2]\n",
        "# a[0] + a[1] #int+str=error"
      ],
      "metadata": {
        "id": "9Z5zLDGc7X13",
        "outputId": "10d5f375-5fd9-4e06-d55e-d6318fd212f3",
        "colab": {
          "base_uri": "https://localhost:8080/"
        }
      },
      "execution_count": 36,
      "outputs": [
        {
          "output_type": "execute_result",
          "data": {
            "text/plain": [
              "1"
            ]
          },
          "metadata": {},
          "execution_count": 36
        }
      ]
    },
    {
      "cell_type": "markdown",
      "source": [
        "[Github accounts](https://raw.githubusercontent.com/MK316/Spring2023/main/DL/files/DL_github.csv)"
      ],
      "metadata": {
        "id": "S-KG49Zaim0S"
      }
    },
    {
      "cell_type": "markdown",
      "source": [
        "\n",
        "\n",
        "---\n",
        "# The End\n"
      ],
      "metadata": {
        "id": "3cZjH9xIiN4_"
      }
    }
  ]
}
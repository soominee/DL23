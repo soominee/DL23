{
  "nbformat": 4,
  "nbformat_minor": 0,
  "metadata": {
    "colab": {
      "provenance": [],
      "authorship_tag": "ABX9TyPOB/JqeLqMYOJrXqvRSkPr",
      "include_colab_link": true
    },
    "kernelspec": {
      "name": "python3",
      "display_name": "Python 3"
    },
    "language_info": {
      "name": "python"
    }
  },
  "cells": [
    {
      "cell_type": "markdown",
      "metadata": {
        "id": "view-in-github",
        "colab_type": "text"
      },
      "source": [
        "<a href=\"https://colab.research.google.com/github/soominee/DL23/blob/main/G1_lesson.ipynb\" target=\"_parent\"><img src=\"https://colab.research.google.com/assets/colab-badge.svg\" alt=\"Open In Colab\"/></a>"
      ]
    },
    {
      "cell_type": "markdown",
      "source": [
        "#**Let's learn grammar!**\n",
        "##Modals (can, should, will)"
      ],
      "metadata": {
        "id": "UtanxF44opV9"
      }
    },
    {
      "cell_type": "markdown",
      "source": [
        "###**1. What is Modal verb?**\n",
        "Look at these cartoons. \n",
        "They explains the situation needing the modal verbs to describe: find out the differences."
      ],
      "metadata": {
        "id": "02V0dZgWqqY-"
      }
    },
    {
      "cell_type": "code",
      "execution_count": 4,
      "metadata": {
        "colab": {
          "base_uri": "https://localhost:8080/",
          "height": 245
        },
        "id": "DJOSR1CknnW9",
        "outputId": "9254bdc9-5d35-48b8-938a-80fcd5c85bb7"
      },
      "outputs": [
        {
          "output_type": "error",
          "ename": "NameError",
          "evalue": "ignored",
          "traceback": [
            "\u001b[0;31m---------------------------------------------------------------------------\u001b[0m",
            "\u001b[0;31mNameError\u001b[0m                                 Traceback (most recent call last)",
            "\u001b[0;32m<ipython-input-4-eb0ac4e8a7dc>\u001b[0m in \u001b[0;36m<cell line: 2>\u001b[0;34m()\u001b[0m\n\u001b[1;32m      6\u001b[0m       \u001b[0;34m\"provenance\"\u001b[0m\u001b[0;34m:\u001b[0m \u001b[0;34m[\u001b[0m\u001b[0;34m]\u001b[0m\u001b[0;34m,\u001b[0m\u001b[0;34m\u001b[0m\u001b[0;34m\u001b[0m\u001b[0m\n\u001b[1;32m      7\u001b[0m       \u001b[0;34m\"authorship_tag\"\u001b[0m\u001b[0;34m:\u001b[0m \u001b[0;34m\"ABX9TyOg2TpNj3Djf+6yE0fZn6XE\"\u001b[0m\u001b[0;34m,\u001b[0m\u001b[0;34m\u001b[0m\u001b[0;34m\u001b[0m\u001b[0m\n\u001b[0;32m----> 8\u001b[0;31m       \u001b[0;34m\"include_colab_link\"\u001b[0m\u001b[0;34m:\u001b[0m \u001b[0mtrue\u001b[0m\u001b[0;34m\u001b[0m\u001b[0;34m\u001b[0m\u001b[0m\n\u001b[0m\u001b[1;32m      9\u001b[0m     },\n\u001b[1;32m     10\u001b[0m     \"kernelspec\": {\n",
            "\u001b[0;31mNameError\u001b[0m: name 'true' is not defined"
          ]
        }
      ],
      "source": [
        "{\n",
        "  \"nbformat\": 4,\n",
        "  \"nbformat_minor\": 0,\n",
        "  \"metadata\": {\n",
        "    \"colab\": {\n",
        "      \"provenance\": [],\n",
        "      \"authorship_tag\": \"ABX9TyOg2TpNj3Djf+6yE0fZn6XE\",\n",
        "      \"include_colab_link\": true\n",
        "    },\n",
        "    \"kernelspec\": {\n",
        "      \"name\": \"python3\",\n",
        "      \"display_name\": \"Python 3\"\n",
        "    },\n",
        "    \"language_info\": {\n",
        "      \"name\": \"python\"\n",
        "    }\n",
        "  },\n",
        "  \"cells\": [\n",
        "    {\n",
        "      \"cell_type\": \"markdown\",\n",
        "      \"metadata\": {\n",
        "        \"id\": \"view-in-github\",\n",
        "        \"colab_type\": \"text\"\n",
        "      },\n",
        "      \"source\": [\n",
        "        \"<a href=\\\"https://colab.research.google.com/github/eng-edu-lgh/DL23_Project_G1/blob/main/1\\\" target=\\\"_parent\\\"><img src=\\\"https://colab.research.google.com/assets/colab-badge.svg\\\" alt=\\\"Open In Colab\\\"/></a>\"\n",
        "      ]\n",
        "    },\n",
        "    {\n",
        "      \"cell_type\": \"markdown\",\n",
        "      \"source\": [],\n",
        "      \"metadata\": {\n",
        "        \"id\": \"wU1kpJHMowjU\"\n",
        "      }\n",
        "    },\n",
        "    {\n",
        "      \"cell_type\": \"code\",\n",
        "      \"execution_count\": 13,\n",
        "      \"metadata\": {\n",
        "        \"colab\": {\n",
        "          \"base_uri\": \"https://localhost:8080/\",\n",
        "          \"height\": 820\n",
        "        },\n",
        "        \"id\": \"VcdiOeORotNC\",\n",
        "        \"outputId\": \"a2a82d9f-5ed3-488f-c4ae-4d0cab6f4710\"\n",
        "      },\n",
        "      \"outputs\": [\n",
        "        {\n",
        "          \"output_type\": \"execute_result\",\n",
        "          \"data\": {\n",
        "            \"text/html\": [\n",
        "              \"<img src=\\\"https://github.com/eng-edu-lgh/DL23_Project_G1/blob/main/image/tooning_20235281410206.jpg?raw=true\\\" width=\\\"800\\\" height=\\\"800\\\"/>\"\n",
        "            ],\n",
        "            \"text/plain\": [\n",
        "              \"<IPython.core.display.Image object>\"\n",
        "            ]\n",
        "          },\n",
        "          \"metadata\": {},\n",
        "          \"execution_count\": 13\n",
        "        }\n",
        "      ],\n",
        "      \"source\": [\n",
        "        \"#@markdown 💠 Lecture slides (#1~6)\\n\",\n",
        "        \"from IPython.display import Image\\n\",\n",
        "        \"\\n\",\n",
        "        \"pages = \\\"6\\\" #@param = [\\\"1\\\", \\\"2\\\", \\\"3\\\", \\\"4\\\", \\\"5\\\",\\\"6\\\"]\\n\",\n",
        "        \"adds = ['https://raw.githubusercontent.com/eng-edu-lgh/DL23_Project_G1/main/image/tooning_202352814010868.jpg',\\n\",\n",
        "        \"        'https://github.com/eng-edu-lgh/DL23_Project_G1/blob/main/image/tooning_202352814041459.jpg?raw=true',\\n\",\n",
        "        \"        'https://github.com/eng-edu-lgh/DL23_Project_G1/blob/main/image/tooning_202352814047396.jpg?raw=true',\\n\",\n",
        "        \"        'https://github.com/eng-edu-lgh/DL23_Project_G1/blob/main/image/tooning_202352814827389.jpg?raw=true',\\n\",\n",
        "        \"        'https://github.com/eng-edu-lgh/DL23_Project_G1/blob/main/image/tooning_20235281418177.jpg?raw=true',\\n\",\n",
        "        \"        'https://github.com/eng-edu-lgh/DL23_Project_G1/blob/main/image/tooning_20235281410206.jpg?raw=true']\\n\",\n",
        "        \"if pages == \\\"1\\\":\\n\",\n",
        "        \"  add = adds[0]\\n\",\n",
        "        \"elif pages == \\\"2\\\":\\n\",\n",
        "        \"  add = adds[1]\\n\",\n",
        "        \"elif pages == \\\"3\\\":\\n\",\n",
        "        \"  add = adds[2]\\n\",\n",
        "        \"elif pages == \\\"4\\\":\\n\",\n",
        "        \"  add = adds[3]\\n\",\n",
        "        \"elif pages == \\\"5\\\":\\n\",\n",
        "        \"  add = adds[4]\\n\",\n",
        "        \"elif pages == \\\"6\\\":\\n\",\n",
        "        \"  add = adds[5]\\n\",\n",
        "        \"Image(url=add, width=800, height=800)\"\n",
        "      ]\n",
        "    },\n",
        "    {\n",
        "      \"cell_type\": \"code\",\n",
        "      \"source\": [],\n",
        "      \"metadata\": {\n",
        "        \"id\": \"8ZZxwqA-qV-P\"\n",
        "      },\n",
        "      \"execution_count\": null,\n",
        "      \"outputs\": []\n",
        "    }\n",
        "  ]\n",
        "}"
      ]
    },
    {
      "cell_type": "markdown",
      "source": [
        "###**2. Types of Modal Verbs**\n",
        "Take a vocabulary quiz to learn meaning and usage of each modal verbs "
      ],
      "metadata": {
        "id": "8F2xhee6sTZ2"
      }
    },
    {
      "cell_type": "code",
      "source": [
        "#@markdown quiz\n",
        "import random\n",
        "\n",
        "vocab_dict = {\n",
        "    \"can\": [\n",
        "        \"to be able to; have the ability, power, or skill to\",\n",
        "        \"to know how to\",\n",
        "        \"to have the power or means to\",\n",
        "        \"to have the right or qualifications to\",\n",
        "        \"may; have permission to\"\n",
        "    ],\n",
        "    \"should\": [\n",
        "        \"used to indicate duty, propriety, or expediency\"\n",
        "    ],\n",
        "    \"will\": [\n",
        "        \"may be expected or supposed to\",\n",
        "        \"am (is, are, etc.) about or going to\"\n",
        "    ]\n",
        "}\n",
        "\n",
        "def quiz():\n",
        "    score = 0\n",
        "    questions = []\n",
        "    for word, definitions in vocab_dict.items():\n",
        "        for definition in definitions:\n",
        "            questions.append((word, definition))\n",
        "    random.shuffle(questions)\n",
        "    for word, definition in questions:\n",
        "        print(\"What is the word for this definition? '{}'\".format(definition))\n",
        "        answer = input(\"Answer: \")\n",
        "        if answer.lower() == word.lower():\n",
        "            print(\"Correct!\")\n",
        "            score += 1\n",
        "        else:\n",
        "            print(\"Incorrect. The correct answer is '{}'.\".format(word))\n",
        "        print()\n",
        "    print(\"Quiz complete. You scored {}/{} points.\".format(score, len(questions)))\n",
        "\n",
        "quiz()"
      ],
      "metadata": {
        "colab": {
          "base_uri": "https://localhost:8080/",
          "height": 378
        },
        "cellView": "form",
        "id": "USVGpGgis_Yc",
        "outputId": "fa08ab57-5529-4596-e94a-e05bd4d8c130"
      },
      "execution_count": 2,
      "outputs": [
        {
          "output_type": "stream",
          "name": "stdout",
          "text": [
            "What is the word for this definition? 'to have the power or means to'\n"
          ]
        },
        {
          "output_type": "error",
          "ename": "KeyboardInterrupt",
          "evalue": "ignored",
          "traceback": [
            "\u001b[0;31m---------------------------------------------------------------------------\u001b[0m",
            "\u001b[0;31mKeyboardInterrupt\u001b[0m                         Traceback (most recent call last)",
            "\u001b[0;32m<ipython-input-2-cadd08c9c6be>\u001b[0m in \u001b[0;36m<cell line: 39>\u001b[0;34m()\u001b[0m\n\u001b[1;32m     37\u001b[0m     \u001b[0mprint\u001b[0m\u001b[0;34m(\u001b[0m\u001b[0;34m\"Quiz complete. You scored {}/{} points.\"\u001b[0m\u001b[0;34m.\u001b[0m\u001b[0mformat\u001b[0m\u001b[0;34m(\u001b[0m\u001b[0mscore\u001b[0m\u001b[0;34m,\u001b[0m \u001b[0mlen\u001b[0m\u001b[0;34m(\u001b[0m\u001b[0mquestions\u001b[0m\u001b[0;34m)\u001b[0m\u001b[0;34m)\u001b[0m\u001b[0;34m)\u001b[0m\u001b[0;34m\u001b[0m\u001b[0;34m\u001b[0m\u001b[0m\n\u001b[1;32m     38\u001b[0m \u001b[0;34m\u001b[0m\u001b[0m\n\u001b[0;32m---> 39\u001b[0;31m \u001b[0mquiz\u001b[0m\u001b[0;34m(\u001b[0m\u001b[0;34m)\u001b[0m\u001b[0;34m\u001b[0m\u001b[0;34m\u001b[0m\u001b[0m\n\u001b[0m",
            "\u001b[0;32m<ipython-input-2-cadd08c9c6be>\u001b[0m in \u001b[0;36mquiz\u001b[0;34m()\u001b[0m\n\u001b[1;32m     28\u001b[0m     \u001b[0;32mfor\u001b[0m \u001b[0mword\u001b[0m\u001b[0;34m,\u001b[0m \u001b[0mdefinition\u001b[0m \u001b[0;32min\u001b[0m \u001b[0mquestions\u001b[0m\u001b[0;34m:\u001b[0m\u001b[0;34m\u001b[0m\u001b[0;34m\u001b[0m\u001b[0m\n\u001b[1;32m     29\u001b[0m         \u001b[0mprint\u001b[0m\u001b[0;34m(\u001b[0m\u001b[0;34m\"What is the word for this definition? '{}'\"\u001b[0m\u001b[0;34m.\u001b[0m\u001b[0mformat\u001b[0m\u001b[0;34m(\u001b[0m\u001b[0mdefinition\u001b[0m\u001b[0;34m)\u001b[0m\u001b[0;34m)\u001b[0m\u001b[0;34m\u001b[0m\u001b[0;34m\u001b[0m\u001b[0m\n\u001b[0;32m---> 30\u001b[0;31m         \u001b[0manswer\u001b[0m \u001b[0;34m=\u001b[0m \u001b[0minput\u001b[0m\u001b[0;34m(\u001b[0m\u001b[0;34m\"Answer: \"\u001b[0m\u001b[0;34m)\u001b[0m\u001b[0;34m\u001b[0m\u001b[0;34m\u001b[0m\u001b[0m\n\u001b[0m\u001b[1;32m     31\u001b[0m         \u001b[0;32mif\u001b[0m \u001b[0manswer\u001b[0m\u001b[0;34m.\u001b[0m\u001b[0mlower\u001b[0m\u001b[0;34m(\u001b[0m\u001b[0;34m)\u001b[0m \u001b[0;34m==\u001b[0m \u001b[0mword\u001b[0m\u001b[0;34m.\u001b[0m\u001b[0mlower\u001b[0m\u001b[0;34m(\u001b[0m\u001b[0;34m)\u001b[0m\u001b[0;34m:\u001b[0m\u001b[0;34m\u001b[0m\u001b[0;34m\u001b[0m\u001b[0m\n\u001b[1;32m     32\u001b[0m             \u001b[0mprint\u001b[0m\u001b[0;34m(\u001b[0m\u001b[0;34m\"Correct!\"\u001b[0m\u001b[0;34m)\u001b[0m\u001b[0;34m\u001b[0m\u001b[0;34m\u001b[0m\u001b[0m\n",
            "\u001b[0;32m/usr/local/lib/python3.10/dist-packages/ipykernel/kernelbase.py\u001b[0m in \u001b[0;36mraw_input\u001b[0;34m(self, prompt)\u001b[0m\n\u001b[1;32m    849\u001b[0m                 \u001b[0;34m\"raw_input was called, but this frontend does not support input requests.\"\u001b[0m\u001b[0;34m\u001b[0m\u001b[0;34m\u001b[0m\u001b[0m\n\u001b[1;32m    850\u001b[0m             )\n\u001b[0;32m--> 851\u001b[0;31m         return self._input_request(str(prompt),\n\u001b[0m\u001b[1;32m    852\u001b[0m             \u001b[0mself\u001b[0m\u001b[0;34m.\u001b[0m\u001b[0m_parent_ident\u001b[0m\u001b[0;34m,\u001b[0m\u001b[0;34m\u001b[0m\u001b[0;34m\u001b[0m\u001b[0m\n\u001b[1;32m    853\u001b[0m             \u001b[0mself\u001b[0m\u001b[0;34m.\u001b[0m\u001b[0m_parent_header\u001b[0m\u001b[0;34m,\u001b[0m\u001b[0;34m\u001b[0m\u001b[0;34m\u001b[0m\u001b[0m\n",
            "\u001b[0;32m/usr/local/lib/python3.10/dist-packages/ipykernel/kernelbase.py\u001b[0m in \u001b[0;36m_input_request\u001b[0;34m(self, prompt, ident, parent, password)\u001b[0m\n\u001b[1;32m    893\u001b[0m             \u001b[0;32mexcept\u001b[0m \u001b[0mKeyboardInterrupt\u001b[0m\u001b[0;34m:\u001b[0m\u001b[0;34m\u001b[0m\u001b[0;34m\u001b[0m\u001b[0m\n\u001b[1;32m    894\u001b[0m                 \u001b[0;31m# re-raise KeyboardInterrupt, to truncate traceback\u001b[0m\u001b[0;34m\u001b[0m\u001b[0;34m\u001b[0m\u001b[0m\n\u001b[0;32m--> 895\u001b[0;31m                 \u001b[0;32mraise\u001b[0m \u001b[0mKeyboardInterrupt\u001b[0m\u001b[0;34m(\u001b[0m\u001b[0;34m\"Interrupted by user\"\u001b[0m\u001b[0;34m)\u001b[0m \u001b[0;32mfrom\u001b[0m \u001b[0;32mNone\u001b[0m\u001b[0;34m\u001b[0m\u001b[0;34m\u001b[0m\u001b[0m\n\u001b[0m\u001b[1;32m    896\u001b[0m             \u001b[0;32mexcept\u001b[0m \u001b[0mException\u001b[0m \u001b[0;32mas\u001b[0m \u001b[0me\u001b[0m\u001b[0;34m:\u001b[0m\u001b[0;34m\u001b[0m\u001b[0;34m\u001b[0m\u001b[0m\n\u001b[1;32m    897\u001b[0m                 \u001b[0mself\u001b[0m\u001b[0;34m.\u001b[0m\u001b[0mlog\u001b[0m\u001b[0;34m.\u001b[0m\u001b[0mwarning\u001b[0m\u001b[0;34m(\u001b[0m\u001b[0;34m\"Invalid Message:\"\u001b[0m\u001b[0;34m,\u001b[0m \u001b[0mexc_info\u001b[0m\u001b[0;34m=\u001b[0m\u001b[0;32mTrue\u001b[0m\u001b[0;34m)\u001b[0m\u001b[0;34m\u001b[0m\u001b[0;34m\u001b[0m\u001b[0m\n",
            "\u001b[0;31mKeyboardInterrupt\u001b[0m: Interrupted by user"
          ]
        }
      ]
    },
    {
      "cell_type": "markdown",
      "source": [
        "###**3. Rules of Modal verbs**\n",
        "Listen to the script and find out the rules for themselves. \n",
        "Then share with padlet. (scan the QR code below)"
      ],
      "metadata": {
        "id": "JIHfndH4tJjs"
      }
    },
    {
      "cell_type": "code",
      "source": [
        "#@markdown 🔄 [1] Making functions (sample): tts(text)\n",
        "%%capture\n",
        "!pip install gTTS\n",
        "from gtts import gTTS\n",
        "from IPython.display import Audio\n",
        "\n",
        "def tts(text):\n",
        "  gtts_object = gTTS(text,lang = \"en\", slow = True) \n",
        "  gtts_object.save(\"myaudio.mp3\")\n",
        "  return Audio(\"myaudio.mp3\")"
      ],
      "metadata": {
        "cellView": "form",
        "id": "oVpgqN07uGkk"
      },
      "execution_count": null,
      "outputs": []
    },
    {
      "cell_type": "code",
      "source": [
        "#@markdown 🔄 Listen to the text\n",
        "tts(\" How do animals see the world? Take a fun quiz and see the world through the eyes of animals!Dogs can see blue and yellow. They cannot see other colors well. For example, they cannot see red. So, don't buy a red ball for your dog.  Your dog cannot see it well. Don't be sad. Dogs don't need great eyes because they have an amazing sense of smell. Hold a pencil in front of your nose. Can you see it? Of course you can. But horses can't. Their eyes are far apart. Horses have eyes on the sides of their heads. So they cannot see things right in front of their noses! But horses can almost see behind their heads. They can easily run away from their enemies. Imagine this. You are on the 10th floor. Can you see the ant on the street? Of course not. But eagles can. They are great hunters because of their wonderful eyes. They can see a rabbit up to 3.2 kilometers away. Isn't it amazing? Also, eagles have really big eyes. Their eyes make up 50 percent of their heads!\")"
      ],
      "metadata": {
        "cellView": "form",
        "id": "Z-fWmrJMuWcR"
      },
      "execution_count": null,
      "outputs": []
    },
    {
      "cell_type": "markdown",
      "source": [
        "padlet QR코드 삽입"
      ],
      "metadata": {
        "id": "CDhqiMVGuKbk"
      }
    },
    {
      "cell_type": "markdown",
      "source": [
        "###**4. Creating Negative and Interrogative Sentences with Modal Verbs**\n",
        "Based on the rules found before, create sentences and upload them on google docs ( ask one thing to your partner )"
      ],
      "metadata": {
        "id": "66SWzUlju7GH"
      }
    },
    {
      "cell_type": "markdown",
      "source": [
        "google docs 링크 삽입"
      ],
      "metadata": {
        "id": "cUI14FE3vOyx"
      }
    },
    {
      "cell_type": "markdown",
      "source": [
        "###**5. Comprehension test**\n",
        "wordwall - unjumble to check "
      ],
      "metadata": {
        "id": "Iil2EY51vRx-"
      }
    },
    {
      "cell_type": "markdown",
      "source": [
        "wordwall QR코드 삽입"
      ],
      "metadata": {
        "id": "WTVdXnWovjVU"
      }
    }
  ]
}